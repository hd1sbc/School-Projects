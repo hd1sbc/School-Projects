{
 "cells": [
  {
   "cell_type": "markdown",
   "id": "c82dae19",
   "metadata": {},
   "source": [
    "The following are the instructions and my answers to the project. The contents of the files in this folder have been edited for security reasons, to prevent cheating/copying, and to clarify various aspects of the directory.\n",
    "\n",
    "### 1. Identify a predictive research question\n",
    "*Does the number of high-value/recognizable players (determined as players paid within the top 5% of salaries) generate more revenue for teams in the NBA?*\n",
    "\n",
    "`More info on the thought process behind the question can be found in the word document included in the submitted folder`\n",
    "\n",
    "### 2. Select an existing dataset (you should not run an experiment or generate new data).\n",
    "`I used two sources to provide the data. The links to and details about how I collected and organized the data can be found in the word document included in the submitted folder`\n",
    "\n",
    "### 3. Found in this directory: the five general steps of data analytics using Python:\n",
    "- Import\n",
    "- Explore (i.e.,Exploratory Data Analysis)\n",
    "- Manipulate (i.e., pre-processing)\n",
    "- Analyze\n",
    "    - Select and run three (3) to five (5) unique, appropriate algorithms from Predictive Analytics and Machine Learning (ML) that we have learned in the course. This should include an evaluation of the models and error metrics.\n",
    "- Visualize (though you may need to iterate at each step and/or back-track to previous steps).\n",
    "\n",
    "### 4. Communicate your insights (i.e., findings, conclusions)\n",
    "`See Write-Up.md for details`"
   ]
  },
  {
   "cell_type": "markdown",
   "id": "9abbe14d",
   "metadata": {},
   "source": [
    "# 1. Import"
   ]
  },
  {
   "cell_type": "code",
   "execution_count": 1,
   "id": "5c4b30d0",
   "metadata": {},
   "outputs": [],
   "source": [
    "#Importing packages\n",
    "import numpy as np\n",
    "import pandas as pd"
   ]
  },
  {
   "cell_type": "code",
   "execution_count": 2,
   "id": "c2ca1b83",
   "metadata": {},
   "outputs": [],
   "source": [
    "#Importing Data Files\n",
    "dfTeamRev = pd.read_csv('CSV Data/TeamRev.csv')\n",
    "dfUncleanSalaries = pd.read_csv('CSV data/Unclean Initial Salary Data.csv')\n",
    "dfNumPlayersByYear = pd.read_csv('CSV data/Number Of Players By Year.csv')"
   ]
  },
  {
   "cell_type": "markdown",
   "id": "864a8975",
   "metadata": {},
   "source": [
    "# Explore"
   ]
  },
  {
   "cell_type": "markdown",
   "id": "a65c8e25",
   "metadata": {},
   "source": [
    "### Characteristics of Team Revenue Data"
   ]
  },
  {
   "cell_type": "code",
   "execution_count": 3,
   "id": "e62d5507",
   "metadata": {
    "scrolled": true
   },
   "outputs": [
    {
     "name": "stdout",
     "output_type": "stream",
     "text": [
      "           Team Name   2011   2012   2013   2014   2015   2016   2017   2018  \\\n",
      "0      Atlanta Hawks  $109    $99   $119   $133   $142   $169   $209   $215    \n",
      "1     Boston Celtics  $146   $143   $169   $173   $181   $200   $257   $287    \n",
      "2      Brooklyn Nets   $89    $84   $190   $212   $220   $223   $273   $290    \n",
      "3  Charlotte Hornets  $101    $93   $115   $130   $142   $158   $202   $213    \n",
      "4      Chicago Bulls  $185   $162   $195   $201   $228   $232   $281   $287    \n",
      "\n",
      "    2019   2020   2021  \n",
      "0  $251   $222   $199   \n",
      "1  $304   $274   $211   \n",
      "2  $304   $280   $212   \n",
      "3  $240   $215   $183   \n",
      "4  $301   $300   $213   \n"
     ]
    }
   ],
   "source": [
    "#Printing the head to get a quick look at the first few rows of data\n",
    "print(dfTeamRev.head(5))"
   ]
  },
  {
   "cell_type": "code",
   "execution_count": 4,
   "id": "c2d65313",
   "metadata": {
    "scrolled": true
   },
   "outputs": [
    {
     "name": "stdout",
     "output_type": "stream",
     "text": [
      "<class 'pandas.core.frame.DataFrame'>\n",
      "RangeIndex: 30 entries, 0 to 29\n",
      "Data columns (total 12 columns):\n",
      " #   Column     Non-Null Count  Dtype \n",
      "---  ------     --------------  ----- \n",
      " 0   Team Name  30 non-null     object\n",
      " 1   2011       30 non-null     object\n",
      " 2   2012       30 non-null     object\n",
      " 3   2013       30 non-null     object\n",
      " 4   2014       30 non-null     object\n",
      " 5   2015       30 non-null     object\n",
      " 6   2016       30 non-null     object\n",
      " 7   2017       30 non-null     object\n",
      " 8   2018       30 non-null     object\n",
      " 9   2019       30 non-null     object\n",
      " 10  2020       30 non-null     object\n",
      " 11  2021       30 non-null     object\n",
      "dtypes: object(12)\n",
      "memory usage: 2.9+ KB\n",
      "None\n"
     ]
    }
   ],
   "source": [
    "#Printing the dataframe info\n",
    "print(dfTeamRev.info())"
   ]
  },
  {
   "cell_type": "code",
   "execution_count": 5,
   "id": "04e8abd7",
   "metadata": {
    "scrolled": true
   },
   "outputs": [
    {
     "name": "stdout",
     "output_type": "stream",
     "text": [
      "            Team Name   2011  2012   2013   2014   2015   2016   2017   2018  \\\n",
      "count              30     30    30     30     30     30     30     30     30   \n",
      "unique             30     26    25     27     27     24     26     25     24   \n",
      "top     Atlanta Hawks  $109   $96   $115   $168   $142   $155   $202   $287    \n",
      "freq                1      3     3      2      2      3      2      2      3   \n",
      "\n",
      "         2019   2020   2021  \n",
      "count      30     30     30  \n",
      "unique     26     28     24  \n",
      "top     $224   $222   $199   \n",
      "freq        2      2      2  \n"
     ]
    }
   ],
   "source": [
    "#Printing dataframe description info\n",
    "print(dfTeamRev.describe())"
   ]
  },
  {
   "cell_type": "markdown",
   "id": "208de2e4",
   "metadata": {},
   "source": [
    "### Characteristics of Player Salary Info"
   ]
  },
  {
   "cell_type": "code",
   "execution_count": 6,
   "id": "bec5f0d4",
   "metadata": {
    "scrolled": true
   },
   "outputs": [
    {
     "name": "stdout",
     "output_type": "stream",
     "text": [
      "   Rank                   Name                   Team        Salary  \\\n",
      "0     1      Stephen Curry, PG  Golden State Warriors  $43,006,362    \n",
      "1     2         Chris Paul, PG           Phoenix Suns  $41,358,814    \n",
      "2     3  Russell Westbrook, PG     Washington Wizards  $41,358,814    \n",
      "3     4       James Harden, SG          Brooklyn Nets  $41,254,920    \n",
      "4     5          John Wall, PG        Houston Rockets  $41,254,920    \n",
      "\n",
      "   Unnamed: 4  Rank.1                 Name.1                 Team.1  \\\n",
      "0         NaN       1      Stephen Curry, PG  Golden State Warriors   \n",
      "1         NaN       2         Chris Paul, PG  Oklahoma City Thunder   \n",
      "2         NaN       3  Russell Westbrook, PG        Houston Rockets   \n",
      "3         NaN       4       Kevin Durant, PF           Phoenix Suns   \n",
      "4         NaN       5       James Harden, SG        Houston Rockets   \n",
      "\n",
      "       Salary.1  Unnamed: 9  ...  Unnamed: 49 Rank.10            Name.10  \\\n",
      "0  $40,231,758          NaN  ...          NaN       1    Kobe Bryant, SF   \n",
      "1  $38,506,482          NaN  ...          NaN       2  Rashard Lewis, PF   \n",
      "2  $38,506,482          NaN  ...          NaN       3      Tim Duncan, C   \n",
      "3  $38,199,000          NaN  ...          NaN       4  Kevin Garnett, PF   \n",
      "4  $38,199,000          NaN  ...          NaN       5   Michael Redd, SG   \n",
      "\n",
      "              Team.10     Salary.10  Unnamed: 54 Unnamed: 55 Unnamed: 56  \\\n",
      "0  Los Angeles Lakers  $24,806,250           NaN         NaN         NaN   \n",
      "1  Washington Wizards  $19,573,711           NaN         NaN         NaN   \n",
      "2   San Antonio Spurs  $18,835,381           NaN         NaN         NaN   \n",
      "3      Boston Celtics  $18,832,044           NaN         NaN         NaN   \n",
      "4     Milwaukee Bucks  $18,300,000           NaN         NaN         NaN   \n",
      "\n",
      "  Unnamed: 57  Unnamed: 58  \n",
      "0         NaN          NaN  \n",
      "1         NaN          NaN  \n",
      "2         NaN          NaN  \n",
      "3         NaN          NaN  \n",
      "4         NaN          NaN  \n",
      "\n",
      "[5 rows x 59 columns]\n"
     ]
    }
   ],
   "source": [
    "#Printing the head to get a quick look at the first few rows of data\n",
    "print(dfUncleanSalaries.head(5))"
   ]
  },
  {
   "cell_type": "code",
   "execution_count": 7,
   "id": "e2d96b92",
   "metadata": {
    "scrolled": true
   },
   "outputs": [
    {
     "name": "stdout",
     "output_type": "stream",
     "text": [
      "<class 'pandas.core.frame.DataFrame'>\n",
      "RangeIndex: 40 entries, 0 to 39\n",
      "Data columns (total 59 columns):\n",
      " #   Column       Non-Null Count  Dtype  \n",
      "---  ------       --------------  -----  \n",
      " 0   Rank         40 non-null     int64  \n",
      " 1   Name         40 non-null     object \n",
      " 2   Team         40 non-null     object \n",
      " 3   Salary       40 non-null     object \n",
      " 4   Unnamed: 4   0 non-null      float64\n",
      " 5   Rank.1       40 non-null     int64  \n",
      " 6   Name.1       40 non-null     object \n",
      " 7   Team.1       40 non-null     object \n",
      " 8   Salary.1     40 non-null     object \n",
      " 9   Unnamed: 9   0 non-null      float64\n",
      " 10  Rank.2       40 non-null     int64  \n",
      " 11  Name.2       40 non-null     object \n",
      " 12  Team.2       40 non-null     object \n",
      " 13  Salary.2     40 non-null     object \n",
      " 14  Unnamed: 14  0 non-null      float64\n",
      " 15  Rank.3       40 non-null     int64  \n",
      " 16  Name.3       40 non-null     object \n",
      " 17  Team.3       40 non-null     object \n",
      " 18  Salary.3     40 non-null     object \n",
      " 19  Unnamed: 19  0 non-null      float64\n",
      " 20  Rank.4       40 non-null     int64  \n",
      " 21  Name.4       40 non-null     object \n",
      " 22  Team.4       40 non-null     object \n",
      " 23  Salary.4     40 non-null     object \n",
      " 24  Unnamed: 24  0 non-null      float64\n",
      " 25  Rank.5       40 non-null     int64  \n",
      " 26  Name.5       40 non-null     object \n",
      " 27  Team.5       40 non-null     object \n",
      " 28  Salary.5     40 non-null     object \n",
      " 29  Unnamed: 29  0 non-null      float64\n",
      " 30  Rank.6       40 non-null     int64  \n",
      " 31  Name.6       40 non-null     object \n",
      " 32  Team.6       40 non-null     object \n",
      " 33  Salary.6     40 non-null     object \n",
      " 34  Unnamed: 34  0 non-null      float64\n",
      " 35  Rank.7       40 non-null     int64  \n",
      " 36  Name.7       40 non-null     object \n",
      " 37  Team.7       40 non-null     object \n",
      " 38  Salary.7     40 non-null     object \n",
      " 39  Unnamed: 39  0 non-null      float64\n",
      " 40  Rank.8       40 non-null     int64  \n",
      " 41  Name.8       40 non-null     object \n",
      " 42  Team.8       40 non-null     object \n",
      " 43  Salary.8     40 non-null     object \n",
      " 44  Unnamed: 44  0 non-null      float64\n",
      " 45  Rank.9       40 non-null     int64  \n",
      " 46  Name.9       40 non-null     object \n",
      " 47  Team.9       40 non-null     object \n",
      " 48  Salary.9     40 non-null     object \n",
      " 49  Unnamed: 49  0 non-null      float64\n",
      " 50  Rank.10      40 non-null     int64  \n",
      " 51  Name.10      40 non-null     object \n",
      " 52  Team.10      40 non-null     object \n",
      " 53  Salary.10    40 non-null     object \n",
      " 54  Unnamed: 54  0 non-null      float64\n",
      " 55  Unnamed: 55  0 non-null      float64\n",
      " 56  Unnamed: 56  0 non-null      float64\n",
      " 57  Unnamed: 57  0 non-null      float64\n",
      " 58  Unnamed: 58  0 non-null      float64\n",
      "dtypes: float64(15), int64(11), object(33)\n",
      "memory usage: 18.6+ KB\n",
      "None\n"
     ]
    }
   ],
   "source": [
    "#Printing the dataframe info\n",
    "print(dfUncleanSalaries.info())"
   ]
  },
  {
   "cell_type": "code",
   "execution_count": 8,
   "id": "df7c5f48",
   "metadata": {},
   "outputs": [
    {
     "name": "stdout",
     "output_type": "stream",
     "text": [
      "            Rank  Unnamed: 4     Rank.1  Unnamed: 9     Rank.2  Unnamed: 14  \\\n",
      "count  40.000000         0.0  40.000000         0.0  40.000000          0.0   \n",
      "mean   20.500000         NaN  20.500000         NaN  20.500000          NaN   \n",
      "std    11.690452         NaN  11.690452         NaN  11.690452          NaN   \n",
      "min     1.000000         NaN   1.000000         NaN   1.000000          NaN   \n",
      "25%    10.750000         NaN  10.750000         NaN  10.750000          NaN   \n",
      "50%    20.500000         NaN  20.500000         NaN  20.500000          NaN   \n",
      "75%    30.250000         NaN  30.250000         NaN  30.250000          NaN   \n",
      "max    40.000000         NaN  40.000000         NaN  40.000000          NaN   \n",
      "\n",
      "          Rank.3  Unnamed: 19     Rank.4  Unnamed: 24  ...     Rank.8  \\\n",
      "count  40.000000          0.0  40.000000          0.0  ...  40.000000   \n",
      "mean   20.500000          NaN  20.500000          NaN  ...  20.500000   \n",
      "std    11.690452          NaN  11.690452          NaN  ...  11.690452   \n",
      "min     1.000000          NaN   1.000000          NaN  ...   1.000000   \n",
      "25%    10.750000          NaN  10.750000          NaN  ...  10.750000   \n",
      "50%    20.500000          NaN  20.500000          NaN  ...  20.500000   \n",
      "75%    30.250000          NaN  30.250000          NaN  ...  30.250000   \n",
      "max    40.000000          NaN  40.000000          NaN  ...  40.000000   \n",
      "\n",
      "       Unnamed: 44     Rank.9  Unnamed: 49    Rank.10  Unnamed: 54  \\\n",
      "count          0.0  40.000000          0.0  40.000000          0.0   \n",
      "mean           NaN  20.500000          NaN  20.500000          NaN   \n",
      "std            NaN  11.690452          NaN  11.690452          NaN   \n",
      "min            NaN   1.000000          NaN   1.000000          NaN   \n",
      "25%            NaN  10.750000          NaN  10.750000          NaN   \n",
      "50%            NaN  20.500000          NaN  20.500000          NaN   \n",
      "75%            NaN  30.250000          NaN  30.250000          NaN   \n",
      "max            NaN  40.000000          NaN  40.000000          NaN   \n",
      "\n",
      "       Unnamed: 55  Unnamed: 56  Unnamed: 57  Unnamed: 58  \n",
      "count          0.0          0.0          0.0          0.0  \n",
      "mean           NaN          NaN          NaN          NaN  \n",
      "std            NaN          NaN          NaN          NaN  \n",
      "min            NaN          NaN          NaN          NaN  \n",
      "25%            NaN          NaN          NaN          NaN  \n",
      "50%            NaN          NaN          NaN          NaN  \n",
      "75%            NaN          NaN          NaN          NaN  \n",
      "max            NaN          NaN          NaN          NaN  \n",
      "\n",
      "[8 rows x 26 columns]\n"
     ]
    }
   ],
   "source": [
    "#Printing dataframe description info\n",
    "print(dfUncleanSalaries.describe())"
   ]
  },
  {
   "cell_type": "markdown",
   "id": "0403fdd5",
   "metadata": {},
   "source": [
    "### Characteristics of Number of Players Per Year"
   ]
  },
  {
   "cell_type": "code",
   "execution_count": 9,
   "id": "712f2da2",
   "metadata": {
    "scrolled": true
   },
   "outputs": [
    {
     "name": "stdout",
     "output_type": "stream",
     "text": [
      "   Year  Total Number of Players\n",
      "0  2021                      564\n",
      "1  2020                      526\n",
      "2  2019                      499\n",
      "3  2018                      589\n",
      "4  2017                      582\n"
     ]
    }
   ],
   "source": [
    "#Printing the head to get a quick look at the first few rows of data\n",
    "print(dfNumPlayersByYear.head(5))"
   ]
  },
  {
   "cell_type": "code",
   "execution_count": 10,
   "id": "e0d07f95",
   "metadata": {
    "scrolled": true
   },
   "outputs": [
    {
     "name": "stdout",
     "output_type": "stream",
     "text": [
      "<class 'pandas.core.frame.DataFrame'>\n",
      "RangeIndex: 11 entries, 0 to 10\n",
      "Data columns (total 2 columns):\n",
      " #   Column                   Non-Null Count  Dtype\n",
      "---  ------                   --------------  -----\n",
      " 0   Year                     11 non-null     int64\n",
      " 1   Total Number of Players  11 non-null     int64\n",
      "dtypes: int64(2)\n",
      "memory usage: 304.0 bytes\n",
      "None\n"
     ]
    }
   ],
   "source": [
    "#Printing the dataframe info\n",
    "print(dfNumPlayersByYear.info())"
   ]
  },
  {
   "cell_type": "code",
   "execution_count": 11,
   "id": "9ee06a60",
   "metadata": {
    "scrolled": true
   },
   "outputs": [
    {
     "name": "stdout",
     "output_type": "stream",
     "text": [
      "              Year  Total Number of Players\n",
      "count    11.000000                11.000000\n",
      "mean   2016.000000               550.636364\n",
      "std       3.316625                69.038066\n",
      "min    2011.000000               426.000000\n",
      "25%    2013.500000               514.500000\n",
      "50%    2016.000000               538.000000\n",
      "75%    2018.500000               585.500000\n",
      "max    2021.000000               690.000000\n"
     ]
    }
   ],
   "source": [
    "#Printing dataframe description info\n",
    "print(dfNumPlayersByYear.describe())"
   ]
  },
  {
   "cell_type": "markdown",
   "id": "3059abe5",
   "metadata": {},
   "source": [
    "# Manipulate"
   ]
  },
  {
   "cell_type": "markdown",
   "id": "82114033",
   "metadata": {},
   "source": [
    "**Part 1: Cleaning Player Salary Data**<br>\n",
    "`As we can see by the weird column titles, multitude of NAN's, and other oddities, the data from Player Salary is not clean data. As mentioned in the word doc, this is because I stitched the data together because the data was not downloadable nor on the same page. In addition, the data is not in a usable format to use for my project. So, I am going to create a completely new dataframe and reorganize the data. While I could have edited the data in excel, I chose not to so I could display python knowledge`\n",
    "\n",
    "**Making My Own Data Frame:**\n",
    "What I need:\n",
    "> a dataframe with the year, rank, name, team, and salary\n",
    "\n",
    "What I have:\n",
    "> a dataframe with the rank, name, and team columns, where each year's data is a new collection of those three columns. This results in 36 columns (3 identical column names x 12 years), with additional empty columns used as spacers. Also note, the year of each collection of columns in not explicit; it is in a separate file\n",
    "\n",
    "What I need to do:\n",
    "> combine the similar columns into one column joined on by year. The result will be 4 columns with the year column having the same value 40 consecutive times before changing to the next value and repeating the pattern\n",
    "\n"
   ]
  },
  {
   "cell_type": "code",
   "execution_count": 172,
   "id": "36ac745d",
   "metadata": {},
   "outputs": [],
   "source": [
    "#Coding details of remaking the data to fit our need\n",
    "#I want to remove the position of each player, which is integrated as part of the name field\n",
    "#I will combine all similar columns from each year into one series. Since the name of the first\n",
    "    #column doesn't follow the pattern of the other 10, I will append it individually. Then, I will append the\n",
    "    #other lists iteratively by incrementing the number to the end of the column name\n",
    "    \n",
    "\n",
    "#list of years following the order in dfUncleanSalaries data. This was taken from numPlayersByYear data\n",
    "listOfYears = dfNumPlayersByYear['Year']    \n",
    "\n",
    "#lists of all similar columns\n",
    "yearListForDataFrame = []\n",
    "rankListForDataFrame = []\n",
    "nameListForDataFrame = []\n",
    "teamListForDataFrame = []\n",
    "salaryListForDataFrame = []\n",
    "\n",
    "#individually adding first column\n",
    "for i in range(len(dfUncleanSalaries['Rank'])):\n",
    "    #if clause ensures that I only take the top 5% of salaries from the total number of players that year\n",
    "    if(dfUncleanSalaries.loc[i,'Rank'] <= 0.05*int(dfNumPlayersByYear.\n",
    "                                                   loc[dfNumPlayersByYear['Year'] == 2011]['Total Number of Players'])  ):\n",
    "        yearListForDataFrame.append(listOfYears[0])\n",
    "        rankListForDataFrame.append(dfUncleanSalaries.loc[i,'Rank'])\n",
    "        nameListForDataFrame.append(dfUncleanSalaries.loc[i,'Name'])\n",
    "        teamListForDataFrame.append(dfUncleanSalaries.loc[i,'Team'])\n",
    "        salaryListForDataFrame.append(dfUncleanSalaries.loc[i,'Salary'])\n",
    "\n",
    "\n",
    "colNamesStr = [\"Rank.\", \"Name.\", \"Team.\", \"Salary.\"]\n",
    "for i in range(10):\n",
    "    for j in colNamesStr:\n",
    "        s = j + str(i+1)\n",
    "        for k in range(len(dfUncleanSalaries['Rank'])):\n",
    "            #if clause ensures that I only take the top 5% of salaries from the total number of players that year\n",
    "            if(dfUncleanSalaries.loc[k, 'Rank'] <= 0.05*\n",
    "               int(dfNumPlayersByYear.loc[dfNumPlayersByYear['Year'] == 2012+i]['Total Number of Players'])  ):\n",
    "                \n",
    "                yearListForDataFrame.append(listOfYears[i+1])\n",
    "                rankListForDataFrame.append(dfUncleanSalaries.loc[k,'Rank'])\n",
    "                nameListForDataFrame.append(dfUncleanSalaries.loc[k,'Name'])\n",
    "                teamListForDataFrame.append(dfUncleanSalaries.loc[k,'Team'])\n",
    "                salaryListForDataFrame.append(dfUncleanSalaries.loc[k,'Salary'])\n",
    "\n",
    "tempNameList = []\n",
    "for i in nameListForDataFrame:\n",
    "    #removing the position from the name\n",
    "    newName = \"\"\n",
    "    #for every character in the dfUncleanSalaries name, if it == ',', stop adding chars to newName\n",
    "    for c in i:\n",
    "        if(c == ','):\n",
    "            break\n",
    "        else:\n",
    "            newName += c\n",
    "    tempNameList.append(newName)\n",
    "\n",
    "nameListForDataFrame = tempNameList\n",
    "#iteratively adding the rest of the columns"
   ]
  },
  {
   "cell_type": "code",
   "execution_count": 151,
   "id": "67a24a96",
   "metadata": {},
   "outputs": [
    {
     "name": "stdout",
     "output_type": "stream",
     "text": [
      "Golden State Warriors\n",
      "Golden State Warriors\n",
      "Golden State Warriors\n",
      "Golden State Warriors\n",
      "Golden State Warriors\n",
      "Golden State Warriors\n",
      "Golden State Warriors\n",
      "Golden State Warriors\n",
      "Golden State Warriors\n",
      "Golden State Warriors\n",
      "Golden State Warriors\n",
      "Golden State Warriors\n",
      "Golden State Warriors\n",
      "Golden State Warriors\n",
      "Golden State Warriors\n",
      "Golden State Warriors\n",
      "Golden State Warriors\n",
      "Golden State Warriors\n",
      "Golden State Warriors\n",
      "Golden State Warriors\n",
      "Golden State Warriors\n",
      "Golden State Warriors\n",
      "Golden State Warriors\n",
      "Golden State Warriors\n",
      "Golden State Warriors\n",
      "Golden State Warriors\n"
     ]
    }
   ],
   "source": [
    "#Coding details of remaking the data to fit our need\n",
    "#I want to remove the position of each player, which is integrated as part of the name field\n",
    "#I will combine all similar columns from each year into one series. Since the name of the first\n",
    "    #column doesn't follow the pattern of the other 10, I will append it individually. Then, I will append the\n",
    "    #other lists iteratively by incrementing the number to the end of the column name\n",
    "    \n",
    "\n",
    "    \n",
    "#list of years following the order in dfUncleanSalaries data. This was taken from numPlayersByYear data\n",
    "listOfYears = dfNumPlayersByYear['Year']    \n",
    "\n",
    "#lists of all similar columns\n",
    "yearListForDataFrame = []\n",
    "rankListForDataFrame = []\n",
    "nameListForDataFrame = []\n",
    "teamListForDataFrame = []\n",
    "salaryListForDataFrame = []\n",
    "\n",
    "#CREATING RANK SERIES\n",
    "#individually adding first column\n",
    "for i in dfUncleanSalaries['Rank']:\n",
    "    #if clause ensures that I only take the top 5% of salaries from the total number of players that year\n",
    "    if(i <= 0.05*int(dfNumPlayersByYear.loc[dfNumPlayersByYear['Year'] == 2011]['Total Number of Players'])  ):\n",
    "        rankListForDataFrame.append(i)\n",
    "        #teamListForDataFrame.append(dfUncleanSalaries[dfUncleanSalaries['Year'] == 2011]['Team'])\n",
    "        print(dfUncleanSalaries.loc[0, 'Team'])\n",
    "#iteratively adding the rest of the columns\n",
    "for i in range(10):\n",
    "    s = \"Rank.\" + str(i+1)\n",
    "    for j in dfUncleanSalaries[s]:\n",
    "        #if clause ensures that I only take the top 5% of salaries from the total number of players that year\n",
    "        if(j <= 0.05*int(dfNumPlayersByYear.loc[dfNumPlayersByYear['Year'] == 2012+i]['Total Number of Players'])  ):\n",
    "            rankListForDataFrame.append(j)\n",
    "\n",
    "#CREATING YEAR SERIES: creating a list of years that is that matches the length of the other data\n",
    "for i in listOfYears:\n",
    "    for j in range(len(dfUncleanSalaries['Rank'])):\n",
    "        yearListForDataFrame.append(i)\n",
    "\n",
    "#CREATING TEAM SERIES\n",
    "#individually adding first column\n",
    "for i in dfUncleanSalaries['Team']:\n",
    "    teamListForDataFrame.append(i)\n",
    "#iteratively adding the rest of the columns\n",
    "for i in range(10):\n",
    "    s = \"Team.\" + str(i+1)\n",
    "    for j in dfUncleanSalaries[s]:\n",
    "        teamListForDataFrame.append(j)\n",
    "\n",
    "#CREATING RANK SERIES\n",
    "#individually adding first column\n",
    "for i in dfUncleanSalaries['Salary']:\n",
    "    salaryListForDataFrame.append(i)\n",
    "#iteratively adding the rest of the columns\n",
    "for i in range(10):\n",
    "    s = \"Salary.\" + str(i+1)\n",
    "    for j in dfUncleanSalaries[s]:\n",
    "        salaryListForDataFrame.append(j)\n",
    "\n",
    "        \n",
    "#CREATING NAME SERIES\n",
    "#individually adding first column\n",
    "for i in dfUncleanSalaries['Name']:\n",
    "    #removing the position from the name\n",
    "    newName = \"\"\n",
    "    #for every character in the dfUncleanSalaries name, if it == ',', stop adding chars to newName\n",
    "    for c in i:\n",
    "        if(c == ','):\n",
    "            break\n",
    "        else:\n",
    "            newName += c\n",
    "    nameListForDataFrame.append(newName)\n",
    "#iteratively adding the rest of the columns\n",
    "for i in range(10):\n",
    "    s = \"Name.\" + str(i+1)\n",
    "    for j in dfUncleanSalaries[s]:\n",
    "        #removing the position from the name\n",
    "        newName = \"\"\n",
    "        #for every character in the dfUncleanSalaries name, if it == ',', stop adding chars to newName\n",
    "        for c in j:\n",
    "            if(c == ','):\n",
    "                break\n",
    "            else:\n",
    "                newName += c\n",
    "        nameListForDataFrame.append(newName)"
   ]
  },
  {
   "cell_type": "code",
   "execution_count": 173,
   "id": "8a05cee7",
   "metadata": {},
   "outputs": [
    {
     "name": "stdout",
     "output_type": "stream",
     "text": [
      "Head of Data\n",
      "    Year  Rank               Name                    Team        Salary\n",
      "0   2021     1      Stephen Curry   Golden State Warriors  $43,006,362 \n",
      "1   2021     2         Chris Paul            Phoenix Suns  $41,358,814 \n",
      "2   2021     3  Russell Westbrook      Washington Wizards  $41,358,814 \n",
      "3   2021     4       James Harden           Brooklyn Nets  $41,254,920 \n",
      "4   2021     5          John Wall         Houston Rockets  $41,254,920 \n",
      "5   2021     6       Kevin Durant           Brooklyn Nets  $40,108,950 \n",
      "6   2021     7       LeBron James      Los Angeles Lakers  $39,219,565 \n",
      "7   2021     8        Paul George             LA Clippers  $35,450,412 \n",
      "8   2021     9      Klay Thompson   Golden State Warriors  $35,361,360 \n",
      "9   2021    10        Mike Conley               Utah Jazz  $34,502,130 \n",
      "10  2021    11       Jimmy Butler              Miami Heat  $34,379,100 \n",
      "11  2021    12      Kawhi Leonard             LA Clippers  $34,379,100 \n",
      "12  2021    13       Kemba Walker          Boston Celtics  $34,379,100 \n",
      "13  2021    14      Tobias Harris      Philadelphia 76ers  $34,358,850 \n",
      "14  2021    15    Khris Middleton         Milwaukee Bucks  $33,051,724 \n",
      "15  2021    16      Anthony Davis      Los Angeles Lakers  $32,742,000 \n",
      "16  2021    17       Kyrie Irving           Brooklyn Nets  $31,742,000 \n",
      "17  2021    18     Damian Lillard  Portland Trail Blazers  $31,626,953 \n",
      "18  2021    19         Kevin Love     Cleveland Cavaliers  $31,258,256 \n",
      "19  2021    20      Pascal Siakam         Toronto Raptors  $30,559,200 \n",
      "20  2021    21        Ben Simmons      Philadelphia 76ers  $30,559,200 \n",
      "21  2021    22         Kyle Lowry         Toronto Raptors  $30,500,000 \n",
      "22  2021    23       Steven Adams    New Orleans Pelicans  $29,592,696 \n",
      "23  2021    24        Joel Embiid      Philadelphia 76ers  $29,542,010 \n",
      "24  2021    25     Andrew Wiggins   Golden State Warriors  $29,542,010 \n",
      "25  2021    26       Nikola Jokic          Denver Nuggets  $29,542,010 \n",
      "26  2020     1      Stephen Curry   Golden State Warriors  $43,006,362 \n",
      "27  2020     2         Chris Paul            Phoenix Suns  $41,358,814 \n",
      "28  2020     3  Russell Westbrook      Washington Wizards  $41,358,814 \n",
      "29  2020     4       James Harden           Brooklyn Nets  $41,254,920 \n",
      "\n",
      "\n",
      "DataFrame Info\n",
      "<class 'pandas.core.frame.DataFrame'>\n",
      "RangeIndex: 1110 entries, 0 to 1109\n",
      "Data columns (total 5 columns):\n",
      " #   Column  Non-Null Count  Dtype \n",
      "---  ------  --------------  ----- \n",
      " 0   Year    1110 non-null   int64 \n",
      " 1   Rank    1110 non-null   int64 \n",
      " 2   Name    1110 non-null   object\n",
      " 3   Team    1110 non-null   object\n",
      " 4   Salary  1110 non-null   object\n",
      "dtypes: int64(2), object(3)\n",
      "memory usage: 43.5+ KB\n",
      "\n",
      "\n",
      "DataFrame Description\n",
      "              Year         Rank\n",
      "count  1110.000000  1110.000000\n",
      "mean   2015.706306    14.254955\n",
      "std       3.009192     8.187878\n",
      "min    2011.000000     1.000000\n",
      "25%    2013.000000     7.000000\n",
      "50%    2016.000000    14.000000\n",
      "75%    2019.000000    21.000000\n",
      "max    2021.000000    34.000000\n"
     ]
    }
   ],
   "source": [
    "#Building New DataFrame\n",
    "#matching lists to column names\n",
    "dfPlayerSalaries = pd.DataFrame({\n",
    "    \"Year\" : yearListForDataFrame,\n",
    "    \"Rank\" : rankListForDataFrame,\n",
    "    \"Name\" : nameListForDataFrame,\n",
    "    \"Team\" : teamListForDataFrame,\n",
    "    \"Salary\": salaryListForDataFrame\n",
    "})\n",
    "\n",
    "#exploring the new data\n",
    "print(\"Head of Data\")\n",
    "print(dfPlayerSalaries.head(30))\n",
    "print()\n",
    "print()\n",
    "print(\"DataFrame Info\")\n",
    "dfPlayerSalaries.info()\n",
    "print()\n",
    "print()\n",
    "print(\"DataFrame Description\")\n",
    "print(dfPlayerSalaries.describe())"
   ]
  },
  {
   "cell_type": "markdown",
   "id": "1bfd7d37",
   "metadata": {},
   "source": [
    "**Part 2: Slicing and Combining Data To Create A DataFrame that answers the question**"
   ]
  },
  {
   "cell_type": "code",
   "execution_count": 103,
   "id": "02f044bf",
   "metadata": {},
   "outputs": [
    {
     "name": "stdout",
     "output_type": "stream",
     "text": [
      "     Year                Team  numHighPlayers  Rank              Name  \\\n",
      "0    2021      Boston Celtics               0    13      Kemba Walker   \n",
      "1    2021       Brooklyn Nets               0     4      James Harden   \n",
      "2    2021       Brooklyn Nets               0     6      Kevin Durant   \n",
      "3    2021       Brooklyn Nets               0    17      Kyrie Irving   \n",
      "4    2021   Charlotte Hornets               0    33    Gordon Hayward   \n",
      "..    ...                 ...             ...   ...               ...   \n",
      "407  2011   San Antonio Spurs               0    31       Tony Parker   \n",
      "408  2011   San Antonio Spurs               0    40     Manu Ginobili   \n",
      "409  2011           Utah Jazz               0     7  Andrei Kirilenko   \n",
      "410  2011           Utah Jazz               0    36      Al Jefferson   \n",
      "411  2011  Washington Wizards               0     2     Rashard Lewis   \n",
      "\n",
      "           Salary  Count High Value Players  \n",
      "0    $34,379,100                          1  \n",
      "1    $41,254,920                          3  \n",
      "2    $40,108,950                          3  \n",
      "3    $31,742,000                          3  \n",
      "4    $28,500,000                          1  \n",
      "..            ...                       ...  \n",
      "407  $13,500,000                          3  \n",
      "408  $11,854,584                          3  \n",
      "409  $17,823,000                          2  \n",
      "410  $13,000,000                          2  \n",
      "411  $19,573,711                          1  \n",
      "\n",
      "[412 rows x 7 columns]\n"
     ]
    }
   ],
   "source": [
    "count = []\n",
    "for i in range(len(yearListForDataFrame)):\n",
    "        count.append(0)\n",
    "\n",
    "dfNumOfTopPlayersTemp = pd.DataFrame({\n",
    "    \"Year\": yearListForDataFrame,\n",
    "    \"Team\": teamListForDataFrame,\n",
    "    \"numHighPlayers\": count    \n",
    "})        \n",
    "\n",
    "dfNumOfTopPlayers = dfNumOfTopPlayersTemp.merge(dfPlayerSalaries, how = \"inner\", on = [\"Year\", \"Team\"])\n",
    "\n",
    "dfNumOfTopPlayers['Count High Value Players'] = dfNumOfTopPlayers.groupby(['Year', 'Team'])['Team'].transform('count')\n",
    "\n",
    "print(dfNumOfTopPlayers)"
   ]
  },
  {
   "cell_type": "markdown",
   "id": "bf6f08fa",
   "metadata": {},
   "source": [
    "Changing TeamRev Data"
   ]
  },
  {
   "cell_type": "code",
   "execution_count": 53,
   "id": "b151650e",
   "metadata": {},
   "outputs": [
    {
     "name": "stdout",
     "output_type": "stream",
     "text": [
      "                   Team  Year Revenue\n",
      "0         Atlanta Hawks  2021   $199 \n",
      "1        Boston Celtics  2021   $211 \n",
      "2         Brooklyn Nets  2021   $212 \n",
      "3     Charlotte Hornets  2021   $183 \n",
      "4         Chicago Bulls  2021   $213 \n",
      "..                  ...   ...     ...\n",
      "325    Sacramento Kings  2011   $104 \n",
      "326   San Antonio Spurs  2011   $139 \n",
      "327     Toronto Raptors  2011   $134 \n",
      "328           Utah Jazz  2011   $120 \n",
      "329  Washington Wizards  2011   $109 \n",
      "\n",
      "[330 rows x 3 columns]\n"
     ]
    }
   ],
   "source": [
    "yearListForDataFrame = []\n",
    "teamListForDataFrame = []\n",
    "revListForDataFrame = []\n",
    "\n",
    "jVal = 0\n",
    "for i in dfNumPlayersByYear['Year']:\n",
    "    jVal = 0\n",
    "    for j in dfTeamRev['Team Name']:\n",
    "        yearListForDataFrame.append(i)\n",
    "        teamListForDataFrame.append(j)\n",
    "        revListForDataFrame.append(dfTeamRev.loc[jVal, str(i)])\n",
    "        jVal+=1\n",
    "\n",
    "dfTeamRevenue = pd.DataFrame({\n",
    "    \"Team\": teamListForDataFrame,\n",
    "    \"Year\": yearListForDataFrame,\n",
    "    \"Revenue\": revListForDataFrame   \n",
    "})\n",
    "\n",
    "print(dfTeamRevenue)"
   ]
  },
  {
   "cell_type": "markdown",
   "id": "a5abfd59",
   "metadata": {},
   "source": [
    "Joining Data"
   ]
  },
  {
   "cell_type": "code",
   "execution_count": 104,
   "id": "9dc4ad6c",
   "metadata": {},
   "outputs": [
    {
     "name": "stdout",
     "output_type": "stream",
     "text": [
      "                   Team  Year Revenue  numHighPlayers  Rank              Name  \\\n",
      "0        Boston Celtics  2021   $211                0    13      Kemba Walker   \n",
      "1         Brooklyn Nets  2021   $212                0     4      James Harden   \n",
      "2         Brooklyn Nets  2021   $212                0     6      Kevin Durant   \n",
      "3         Brooklyn Nets  2021   $212                0    17      Kyrie Irving   \n",
      "4     Charlotte Hornets  2021   $183                0    33    Gordon Hayward   \n",
      "..                  ...   ...     ...             ...   ...               ...   \n",
      "407   San Antonio Spurs  2011   $139                0    31       Tony Parker   \n",
      "408   San Antonio Spurs  2011   $139                0    40     Manu Ginobili   \n",
      "409           Utah Jazz  2011   $120                0     7  Andrei Kirilenko   \n",
      "410           Utah Jazz  2011   $120                0    36      Al Jefferson   \n",
      "411  Washington Wizards  2011   $109                0     2     Rashard Lewis   \n",
      "\n",
      "           Salary  Count High Value Players  \n",
      "0    $34,379,100                          1  \n",
      "1    $41,254,920                          3  \n",
      "2    $40,108,950                          3  \n",
      "3    $31,742,000                          3  \n",
      "4    $28,500,000                          1  \n",
      "..            ...                       ...  \n",
      "407  $13,500,000                          3  \n",
      "408  $11,854,584                          3  \n",
      "409  $17,823,000                          2  \n",
      "410  $13,000,000                          2  \n",
      "411  $19,573,711                          1  \n",
      "\n",
      "[412 rows x 8 columns]\n"
     ]
    }
   ],
   "source": [
    "df = dfTeamRevenue.merge(dfNumOfTopPlayers, how = \"inner\", on = [\"Year\", \"Team\"])\n",
    "print(df)"
   ]
  },
  {
   "cell_type": "code",
   "execution_count": null,
   "id": "463a999f",
   "metadata": {},
   "outputs": [],
   "source": []
  }
 ],
 "metadata": {
  "kernelspec": {
   "display_name": "Python 3 (ipykernel)",
   "language": "python",
   "name": "python3"
  },
  "language_info": {
   "codemirror_mode": {
    "name": "ipython",
    "version": 3
   },
   "file_extension": ".py",
   "mimetype": "text/x-python",
   "name": "python",
   "nbconvert_exporter": "python",
   "pygments_lexer": "ipython3",
   "version": "3.12.3"
  }
 },
 "nbformat": 4,
 "nbformat_minor": 5
}
